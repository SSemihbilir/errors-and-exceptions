{
 "cells": [
  {
   "cell_type": "code",
   "execution_count": 3,
   "id": "533c1350",
   "metadata": {},
   "outputs": [],
   "source": [
    "def add(num1,num2):\n",
    "    print(num1 + num2)"
   ]
  },
  {
   "cell_type": "code",
   "execution_count": 4,
   "id": "24199ab4",
   "metadata": {},
   "outputs": [
    {
     "name": "stdout",
     "output_type": "stream",
     "text": [
      "30\n"
     ]
    }
   ],
   "source": [
    "add(10,20)"
   ]
  },
  {
   "cell_type": "code",
   "execution_count": 7,
   "id": "d503122e",
   "metadata": {},
   "outputs": [],
   "source": [
    "number1 = 10"
   ]
  },
  {
   "cell_type": "code",
   "execution_count": 8,
   "id": "7cbb3bce",
   "metadata": {},
   "outputs": [
    {
     "name": "stdout",
     "output_type": "stream",
     "text": [
      "plesae enter number: 20\n"
     ]
    }
   ],
   "source": [
    "number2 = input(\"plesae enter number: \")"
   ]
  },
  {
   "cell_type": "code",
   "execution_count": 9,
   "id": "acb1b77d",
   "metadata": {},
   "outputs": [
    {
     "ename": "TypeError",
     "evalue": "unsupported operand type(s) for +: 'int' and 'str'",
     "output_type": "error",
     "traceback": [
      "\u001b[1;31m---------------------------------------------------------------------------\u001b[0m",
      "\u001b[1;31mTypeError\u001b[0m                                 Traceback (most recent call last)",
      "Cell \u001b[1;32mIn [9], line 1\u001b[0m\n\u001b[1;32m----> 1\u001b[0m add(number1,number2)\n",
      "Cell \u001b[1;32mIn [3], line 2\u001b[0m, in \u001b[0;36madd\u001b[1;34m(num1, num2)\u001b[0m\n\u001b[0;32m      1\u001b[0m \u001b[38;5;28;01mdef\u001b[39;00m \u001b[38;5;21madd\u001b[39m(num1,num2):\n\u001b[1;32m----> 2\u001b[0m     \u001b[38;5;28mprint\u001b[39m(\u001b[43mnum1\u001b[49m\u001b[43m \u001b[49m\u001b[38;5;241;43m+\u001b[39;49m\u001b[43m \u001b[49m\u001b[43mnum2\u001b[49m)\n",
      "\u001b[1;31mTypeError\u001b[0m: unsupported operand type(s) for +: 'int' and 'str'"
     ]
    }
   ],
   "source": [
    "add(number1,number2)"
   ]
  },
  {
   "cell_type": "code",
   "execution_count": 10,
   "id": "2501b571",
   "metadata": {},
   "outputs": [
    {
     "name": "stdout",
     "output_type": "stream",
     "text": [
      "hey it don't look like correctly!\n"
     ]
    }
   ],
   "source": [
    "try:\n",
    "    #want to attempt this code\n",
    "    #may have an error\n",
    "    result = 10 + \"20\"\n",
    "except:\n",
    "    print(\"hey it don't look like correctly!\")\n",
    "    "
   ]
  },
  {
   "cell_type": "code",
   "execution_count": 11,
   "id": "c2933fe5",
   "metadata": {},
   "outputs": [
    {
     "name": "stdout",
     "output_type": "stream",
     "text": [
      "Add went well!\n",
      "30\n"
     ]
    }
   ],
   "source": [
    "try:\n",
    "    #want to attempt this code\n",
    "    #may have an error\n",
    "    result = 10 + 20\n",
    "except:\n",
    "    print(\"hey it don't look like correctly!\")\n",
    "else:\n",
    "    print(\"Add went well!\")\n",
    "    print(result)"
   ]
  },
  {
   "cell_type": "code",
   "execution_count": 13,
   "id": "04922547",
   "metadata": {},
   "outputs": [
    {
     "name": "stdout",
     "output_type": "stream",
     "text": [
      "I always run!\n"
     ]
    }
   ],
   "source": [
    "try:\n",
    "    f = open(\"testfile\",\"w\")\n",
    "    f.write(\"Write a test line\")\n",
    "except TypeError:\n",
    "    print(\"There was a type error!\")\n",
    "except OSError:\n",
    "    print(\"You have an OS error!\")\n",
    "finally:\n",
    "    print(\"I always run!\")\n",
    "    "
   ]
  },
  {
   "cell_type": "code",
   "execution_count": 14,
   "id": "591d2074",
   "metadata": {},
   "outputs": [
    {
     "name": "stdout",
     "output_type": "stream",
     "text": [
      "You have an OS error!\n",
      "I always run!\n"
     ]
    }
   ],
   "source": [
    "try:\n",
    "    f = open(\"testfile\",\"r\")\n",
    "    f.write(\"Write a test line\")\n",
    "except TypeError:\n",
    "    print(\"There was a type error!\")\n",
    "except OSError:\n",
    "    print(\"You have an OS error!\")\n",
    "finally:\n",
    "    print(\"I always run!\")"
   ]
  },
  {
   "cell_type": "code",
   "execution_count": 15,
   "id": "bbb9660b",
   "metadata": {},
   "outputs": [
    {
     "name": "stdout",
     "output_type": "stream",
     "text": [
      "I always run!\n"
     ]
    }
   ],
   "source": [
    "try:\n",
    "    f = open(\"testfile\",\"w\")\n",
    "    f.write(\"Write a test line\")\n",
    "except:\n",
    "    print(\"There was a error!\")\n",
    "finally:\n",
    "    print(\"I always run!\")"
   ]
  },
  {
   "cell_type": "code",
   "execution_count": 16,
   "id": "87846924",
   "metadata": {},
   "outputs": [
    {
     "name": "stdout",
     "output_type": "stream",
     "text": [
      "There was a error!\n",
      "I always run!\n"
     ]
    }
   ],
   "source": [
    "try:\n",
    "    f = open(\"testfile\",\"r\")\n",
    "    f.write(\"Write a test line\")\n",
    "except:\n",
    "    print(\"There was a error!\")\n",
    "finally:\n",
    "    print(\"I always run!\")"
   ]
  },
  {
   "cell_type": "code",
   "execution_count": 19,
   "id": "d8dc8d5b",
   "metadata": {},
   "outputs": [],
   "source": [
    "def ask_for_int():\n",
    "    try:\n",
    "        result = int(input(\"please provide a number: \"))\n",
    "    except:\n",
    "        print(\"WHOOPS that is not a number\")\n",
    "    finally:\n",
    "        print(\"END of TRY/EXCEPT/FİNALLY\")"
   ]
  },
  {
   "cell_type": "code",
   "execution_count": 20,
   "id": "ff771513",
   "metadata": {},
   "outputs": [
    {
     "name": "stdout",
     "output_type": "stream",
     "text": [
      "please provide a number: word\n",
      "WHOOPS that is not a number\n",
      "END of TRY/EXCEPT/FİNALLY\n"
     ]
    }
   ],
   "source": [
    "ask_for_int()"
   ]
  },
  {
   "cell_type": "code",
   "execution_count": 18,
   "id": "a84c4b9d",
   "metadata": {},
   "outputs": [
    {
     "name": "stdout",
     "output_type": "stream",
     "text": [
      "please provide a number: 20\n",
      "END of TRY/EXCEPT/FİNALLY\n"
     ]
    }
   ],
   "source": [
    "ask_for_int()"
   ]
  },
  {
   "cell_type": "code",
   "execution_count": 22,
   "id": "8249fc64",
   "metadata": {},
   "outputs": [],
   "source": [
    "def ask_for_int():\n",
    "    #while loop with try/exceptfinally\n",
    "    while True:#you shouldn't forget to break somewhere\n",
    "        try:#important indented block\n",
    "            result = int(input(\"please provide a number: \"))\n",
    "        except:\n",
    "            print(\"WHOOPS that is not a number\")\n",
    "        else: \n",
    "            print(\" YES Thank you!\")\n",
    "            break\n",
    "        finally:\n",
    "            print(\"END of TRY/EXCEPT/FİNALLY\")"
   ]
  },
  {
   "cell_type": "code",
   "execution_count": 23,
   "id": "e9d92b28",
   "metadata": {},
   "outputs": [
    {
     "name": "stdout",
     "output_type": "stream",
     "text": [
      "please provide a number: q\n",
      "WHOOPS that is not a number\n",
      "END of TRY/EXCEPT/FİNALLY\n",
      "please provide a number: q\n",
      "WHOOPS that is not a number\n",
      "END of TRY/EXCEPT/FİNALLY\n",
      "please provide a number: r\n",
      "WHOOPS that is not a number\n",
      "END of TRY/EXCEPT/FİNALLY\n",
      "please provide a number: n\n",
      "WHOOPS that is not a number\n",
      "END of TRY/EXCEPT/FİNALLY\n",
      "please provide a number: 20\n",
      " YES Thank you!\n",
      "END of TRY/EXCEPT/FİNALLY\n"
     ]
    }
   ],
   "source": [
    "ask_for_int()"
   ]
  },
  {
   "cell_type": "code",
   "execution_count": 24,
   "id": "eeca819b",
   "metadata": {},
   "outputs": [],
   "source": [
    "def ask_for_int():\n",
    "    #while loop with try/exceptfinally\n",
    "    while True:#you shouldn't forget to break somewhere\n",
    "        try:#important indented block\n",
    "            result = int(input(\"please provide a number: \"))\n",
    "        except:\n",
    "            print(\"WHOOPS that is not a number\")\n",
    "            continue\n",
    "        else: \n",
    "            print(\" YES Thank you!\")\n",
    "            break\n",
    "        finally:\n",
    "            print(\"I am going to ask you again \\n\")"
   ]
  },
  {
   "cell_type": "code",
   "execution_count": 25,
   "id": "0154e677",
   "metadata": {},
   "outputs": [
    {
     "name": "stdout",
     "output_type": "stream",
     "text": [
      "please provide a number: a\n",
      "WHOOPS that is not a number\n",
      "I am going to ask you again \n",
      "\n",
      "please provide a number: s\n",
      "WHOOPS that is not a number\n",
      "I am going to ask you again \n",
      "\n",
      "please provide a number: 15\n",
      " YES Thank you!\n",
      "I am going to ask you again \n",
      "\n"
     ]
    }
   ],
   "source": [
    "ask_for_int()"
   ]
  },
  {
   "cell_type": "code",
   "execution_count": null,
   "id": "a7182572",
   "metadata": {},
   "outputs": [],
   "source": []
  }
 ],
 "metadata": {
  "kernelspec": {
   "display_name": "Python 3 (ipykernel)",
   "language": "python",
   "name": "python3"
  },
  "language_info": {
   "codemirror_mode": {
    "name": "ipython",
    "version": 3
   },
   "file_extension": ".py",
   "mimetype": "text/x-python",
   "name": "python",
   "nbconvert_exporter": "python",
   "pygments_lexer": "ipython3",
   "version": "3.8.9"
  }
 },
 "nbformat": 4,
 "nbformat_minor": 5
}
